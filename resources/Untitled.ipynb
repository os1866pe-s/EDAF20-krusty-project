{
 "cells": [
  {
   "cell_type": "code",
   "execution_count": 2,
   "metadata": {},
   "outputs": [],
   "source": [
    "%load_ext sql"
   ]
  },
  {
   "cell_type": "code",
   "execution_count": 13,
   "metadata": {},
   "outputs": [],
   "source": [
    "import sqlalchemy\n",
    "import pymysql"
   ]
  },
  {
   "cell_type": "code",
   "execution_count": 6,
   "metadata": {},
   "outputs": [
    {
     "data": {
      "text/plain": [
       "'Connected: @../src/main/resources/public/krusty_database_v2.db'"
      ]
     },
     "execution_count": 6,
     "metadata": {},
     "output_type": "execute_result"
    }
   ],
   "source": [
    "%sql sqlite:///../src/main/resources/public/krusty_database_v2.db"
   ]
  },
  {
   "cell_type": "code",
   "execution_count": null,
   "metadata": {},
   "outputs": [],
   "source": []
  },
  {
   "cell_type": "code",
   "execution_count": 25,
   "metadata": {},
   "outputs": [
    {
     "name": "stdout",
     "output_type": "stream",
     "text": [
      "   sqlite:///../src/main/resources/public/krusty_database.db\n",
      " * sqlite:///../src/main/resources/public/krusty_database_v2.db\n",
      "Done.\n",
      "Done.\n",
      "Done.\n",
      "Done.\n",
      "Done.\n",
      "Done.\n",
      "Done.\n",
      "8 rows affected.\n",
      "Done.\n",
      "6 rows affected.\n",
      "Done.\n",
      "19 rows affected.\n",
      "Done.\n",
      "31 rows affected.\n",
      "Done.\n",
      "Done.\n"
     ]
    },
    {
     "data": {
      "text/plain": [
       "[]"
      ]
     },
     "execution_count": 25,
     "metadata": {},
     "output_type": "execute_result"
    }
   ],
   "source": [
    "%%sql\n",
    "\n",
    "DROP TABLE IF EXISTS Customers;\n",
    "DROP TABLE IF EXISTS Cookies;\n",
    "DROP TABLE IF EXISTS IngredientsInCookies;\n",
    "DROP TABLE IF EXISTS Ingredients;\n",
    "DROP TABLE IF EXISTS Orders;\n",
    "DROP TABLE IF EXISTS Pallets;\n",
    "\n",
    "\n",
    "CREATE TABLE Customers(\n",
    "    name TEXT PRIMARY KEY,\n",
    "    address TEXT\n",
    ");\n",
    "\n",
    "\n",
    "INSERT INTO Customers(name, address) VALUES\n",
    "('Bjudkakor AB','Ystad'),\n",
    "('Finkakor AB','Helsingborg'),\n",
    "('Gastkakor AB','Hassleholm'),\n",
    "('Kaffebrod AB','Landskrona'),\n",
    "('Kalaskakor AB','Trelleborg'),\n",
    "('Partykakor AB','Kristianstad'),\n",
    "('Skanekakor AB','Perstorp'),\n",
    "('Smabrod AB','Malmo');\n",
    "\n",
    "\n",
    "CREATE TABLE Cookies(\n",
    "    name TEXT PRIMARY KEY\n",
    ");\n",
    "\n",
    "INSERT INTO Cookies(name) VALUES\n",
    "('Amneris'),\n",
    "('Berliner'),\n",
    "('Nut cookie'),\n",
    "('Nut ring'),\n",
    "('Tango'),\n",
    "('Almond delight');\n",
    "\n",
    "CREATE TABLE Ingredients(\n",
    "    name TEXT PRIMARY KEY,\n",
    "    last_delivered_timestamp DATETIME DEFAULT CURRENT_TIMESTAMP,\n",
    "    last_delivered_quantity INTEGER,\n",
    "    amount INTGER,\n",
    "    unit TEXT\n",
    ");\n",
    "\n",
    "INSERT INTO Ingredients(name, amount, unit) VALUES\n",
    "('Bread crumbs',500000,'g'),\n",
    "('Butter',500000,'g'),\n",
    "('Chocolate',500000,'g'),\n",
    "('Chopped almonds',500000,'g'),\n",
    "('Cinnamon',500000,'g'),\n",
    "('Egg whites',500000,'ml'),\n",
    "('Eggs',500000,'g'),\n",
    "('Fine-ground nuts',500000,'g'),\n",
    "('Flour',500000,'g'),\n",
    "('Ground, roasted nuts',500000,'g'),\n",
    "('Icing sugar',500000,'g'),\n",
    "('Marzipan',500000,'g'),\n",
    "('Potato starch',500000,'g'),\n",
    "('Roasted, chopped nuts',500000,'g'),\n",
    "('Sodium bicarbonate',500000,'g'),\n",
    "('Sugar',500000,'g'),\n",
    "('Vanilla',500000,'g'),\n",
    "('Vanilla sugar',500000,'g'),\n",
    "('Wheat flour',500000,'g');\n",
    "\n",
    "\n",
    "CREATE TABLE IngredientsInCookies(\n",
    "    ingredient_name TEXT,\n",
    "    cookie_name TEXT,\n",
    "    quantity INTEGER,\n",
    "    PRIMARY KEY(ingredient_name, cookie_name),\n",
    "    FOREIGN KEY(ingredient_name) REFERENCES Ingredients(name),\n",
    "    FOREIGN KEY(cookie_name) REFERENCES Cookies(name)\n",
    "    \n",
    ");\n",
    "\n",
    "INSERT INTO IngredientsInCookies(cookie_name, ingredient_name, quantity) VALUES\n",
    "('Nut ring','Flour', 450),\n",
    "('Nut ring','Butter',450),\n",
    "('Nut ring','Icing sugar',190),\n",
    "('Nut ring','Roasted, chopped nuts',225),\n",
    "('Nut cookie','Fine-ground nuts',625),\n",
    "('Nut cookie','Ground, roasted nuts',625),\n",
    "('Nut cookie','Bread crumbs',125),\n",
    "('Nut cookie','Sugar',375),\n",
    "('Nut cookie','Egg whites',350),\n",
    "('Nut cookie','Chocolate',50),\n",
    "('Amneris','Marzipan',750),\n",
    "('Amneris','Butter',250),\n",
    "('Amneris','Eggs',250),\n",
    "('Amneris','Potato starch',25),\n",
    "('Amneris','Wheat flour',25),\n",
    "('Tango','Butter',200),\n",
    "('Tango','Sugar',250),\n",
    "('Tango','Flour',300),\n",
    "('Tango','Sodium bicarbonate',4),\n",
    "('Tango','Vanilla',2),\n",
    "('Almond delight','Butter ',400),\n",
    "('Almond delight','Sugar',270),\n",
    "('Almond delight','Chopped almonds',279),\n",
    "('Almond delight','Flour',400),\n",
    "('Almond delight','Cinnamon',10),\n",
    "('Berliner','Flour',350),\n",
    "('Berliner','Butter',250),\n",
    "('Berliner','Icing sugar',100),\n",
    "('Berliner','Eggs',50),\n",
    "('Berliner','Vanilla sugar',5),\n",
    "('Berliner','Chocolate',50);\n",
    "\n",
    "\n",
    "CREATE TABLE Orders(\n",
    "    order_number INTEGER PRIMARY KEY AUTOINCREMENT,\n",
    "    name TEXT,\n",
    "    order_made_timestamp DATETIME DEFAULT (date('now')) NOT NULL,\n",
    "    requested_delivery_timestamp,\n",
    "    FOREIGN KEY(name) REFERENCES Customers(name)\n",
    ");\n",
    "\n",
    "\n",
    "CREATE TABLE Pallets(\n",
    "    pallet_number INTEGER PRIMARY KEY AUTOINCREMENT,\n",
    "    cookie TEXT NOT NULL,\n",
    "    order_number INTERGER,\n",
    "    produced_timestamp DATETIME DEFAULT (date('now')) NOT NULL,\n",
    "    delivered_timestamp TEXT,\n",
    "    blocked TEXT NOT NULL,\n",
    "    FOREIGN KEY(cookie) REFERENCES Cookies(name),\n",
    "    FOREIGN KEY(order_number) REFERENCES Orders(order_number)\n",
    ");\n"
   ]
  },
  {
   "cell_type": "code",
   "execution_count": 24,
   "metadata": {},
   "outputs": [
    {
     "name": "stdout",
     "output_type": "stream",
     "text": [
      "   sqlite:///../src/main/resources/public/krusty_database.db\n",
      " * sqlite:///../src/main/resources/public/krusty_database_v2.db\n",
      "8 rows affected.\n",
      "Done.\n"
     ]
    },
    {
     "data": {
      "text/html": [
       "<table>\n",
       "    <tr>\n",
       "        <th>name</th>\n",
       "        <th>address</th>\n",
       "    </tr>\n",
       "</table>"
      ],
      "text/plain": [
       "[]"
      ]
     },
     "execution_count": 24,
     "metadata": {},
     "output_type": "execute_result"
    }
   ],
   "source": [
    "%%sql\n",
    "delete from customers;\n",
    "select * from customers;"
   ]
  },
  {
   "cell_type": "code",
   "execution_count": null,
   "metadata": {},
   "outputs": [],
   "source": []
  }
 ],
 "metadata": {
  "kernelspec": {
   "display_name": "Python 3",
   "language": "python",
   "name": "python3"
  },
  "language_info": {
   "codemirror_mode": {
    "name": "ipython",
    "version": 3
   },
   "file_extension": ".py",
   "mimetype": "text/x-python",
   "name": "python",
   "nbconvert_exporter": "python",
   "pygments_lexer": "ipython3",
   "version": "3.7.4"
  }
 },
 "nbformat": 4,
 "nbformat_minor": 4
}
